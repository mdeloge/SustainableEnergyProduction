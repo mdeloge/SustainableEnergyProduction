{
 "cells": [
  {
   "cell_type": "code",
   "execution_count": 1,
   "metadata": {
    "collapsed": true
   },
   "outputs": [],
   "source": [
    "%matplotlib inline\n",
    "\n",
    "import matplotlib\n",
    "import numpy as np\n",
    "import matplotlib.pyplot as plt\n",
    "import pandas\n",
    "from matplotlib.externals import six\n",
    "import mpld3\n",
    "import copy\n",
    "mpld3.enable_notebook()"
   ]
  },
  {
   "cell_type": "code",
   "execution_count": 3,
   "metadata": {
    "collapsed": false
   },
   "outputs": [
    {
     "data": {
      "text/html": [
       "<div>\n",
       "<table border=\"1\" class=\"dataframe\">\n",
       "  <thead>\n",
       "    <tr style=\"text-align: right;\">\n",
       "      <th></th>\n",
       "      <th>UTC</th>\n",
       "      <th>Cons_percentage</th>\n",
       "      <th>cons_kWh</th>\n",
       "    </tr>\n",
       "  </thead>\n",
       "  <tbody>\n",
       "    <tr>\n",
       "      <th>0</th>\n",
       "      <td>1/1/2017 5:00</td>\n",
       "      <td>0.000241</td>\n",
       "      <td>5.600661</td>\n",
       "    </tr>\n",
       "    <tr>\n",
       "      <th>1</th>\n",
       "      <td>1/1/2017 6:00</td>\n",
       "      <td>0.000321</td>\n",
       "      <td>7.468272</td>\n",
       "    </tr>\n",
       "    <tr>\n",
       "      <th>2</th>\n",
       "      <td>1/1/2017 7:00</td>\n",
       "      <td>0.000375</td>\n",
       "      <td>8.721935</td>\n",
       "    </tr>\n",
       "    <tr>\n",
       "      <th>3</th>\n",
       "      <td>1/1/2017 8:00</td>\n",
       "      <td>0.000369</td>\n",
       "      <td>8.577332</td>\n",
       "    </tr>\n",
       "    <tr>\n",
       "      <th>4</th>\n",
       "      <td>1/1/2017 9:00</td>\n",
       "      <td>0.000342</td>\n",
       "      <td>7.948698</td>\n",
       "    </tr>\n",
       "  </tbody>\n",
       "</table>\n",
       "</div>"
      ],
      "text/plain": [
       "             UTC  Cons_percentage  cons_kWh\n",
       "0  1/1/2017 5:00         0.000241  5.600661\n",
       "1  1/1/2017 6:00         0.000321  7.468272\n",
       "2  1/1/2017 7:00         0.000375  8.721935\n",
       "3  1/1/2017 8:00         0.000369  8.577332\n",
       "4  1/1/2017 9:00         0.000342  7.948698"
      ]
     },
     "execution_count": 3,
     "metadata": {},
     "output_type": "execute_result"
    }
   ],
   "source": [
    "avg_cons = 23260  #Average consumption of gas in kWh for a family of 2 parents and 1 child\n",
    "df = pandas.read_csv(\"gas_vreg.csv\")\n",
    "df = df.drop(['year','Month','Day','h','From','To'], 1)\n",
    "df['cons_kWh'] = df.apply(lambda row: row['Cons_percentage']*avg_cons, axis=1)\n",
    "df.head()"
   ]
  },
  {
   "cell_type": "code",
   "execution_count": 22,
   "metadata": {
    "collapsed": false
   },
   "outputs": [
    {
     "data": {
      "text/plain": [
       "1.2272673799999998"
      ]
     },
     "execution_count": 22,
     "metadata": {},
     "output_type": "execute_result"
    }
   ],
   "source": [
    "min(df['cons_kWh'])*5"
   ]
  },
  {
   "cell_type": "markdown",
   "metadata": {},
   "source": [
    "Merk\tNaam\tOpmerking\tType\tBrandstof\tPrijs\tEnergielabel\tPmin (kW)\tPmax (kW)\tPgem (kW)\tBoilerinhoud (l)\n",
    "\n",
    "Viessmann\tVitodens 222-F Vitotronic 100\tNiet vermeld\tCondensatie-wandtoestel op gas\tGas\t € 3,433.00 \tA\t1.7\t12.1\t6.9\t130\n"
   ]
  },
  {
   "cell_type": "code",
   "execution_count": 30,
   "metadata": {
    "collapsed": true
   },
   "outputs": [],
   "source": [
    "p_min = 1.7       #kWh\n",
    "p_max = 12.1       #kWh\n",
    "p_avg = 6.9       #kWh\n",
    "tank_size = 130       #liters\n",
    "cost = 2100       #euro\n",
    "gas_price = 0.05       #euro/kWh\n",
    "yearly = 85200      #kWh\n",
    "warranty = 10      #years"
   ]
  },
  {
   "cell_type": "code",
   "execution_count": 31,
   "metadata": {
    "collapsed": false
   },
   "outputs": [
    {
     "name": "stdout",
     "output_type": "stream",
     "text": [
      "11625   4260.0\n"
     ]
    }
   ],
   "source": [
    "installation_cost = (cost + 225)*5\n",
    "operating_cost = yearly*gas_price\n",
    "print installation_cost, \" \", operating_cost"
   ]
  },
  {
   "cell_type": "code",
   "execution_count": 29,
   "metadata": {
    "collapsed": false
   },
   "outputs": [
    {
     "name": "stdout",
     "output_type": "stream",
     "text": [
      "Installation cost:  18290 \tcumulative:  18290\n",
      "\n",
      "Year\tCost\t\tCumulative\n",
      "1 \t4260.0 \t\t22550.0\n",
      "2 \t4260.0 \t\t26810.0\n",
      "3 \t4260.0 \t\t31070.0\n",
      "4 \t4260.0 \t\t35330.0\n",
      "5 \t4260.0 \t\t39590.0\n",
      "6 \t4260.0 \t\t43850.0\n",
      "7 \t4260.0 \t\t48110.0\n",
      "8 \t4260.0 \t\t52370.0\n",
      "9 \t4260.0 \t\t56630.0\n",
      "10 \t4260.0 \t\t60890.0\n",
      "11 \t4473.0 \t\t65363.0\n",
      "12 \t4686.0 \t\t70049.0\n",
      "13 \t4899.0 \t\t74948.0\n",
      "14 \t5112.0 \t\t80060.0\n",
      "15 \t5325.0 \t\t85385.0\n",
      "16 \t5538.0 \t\t90923.0\n",
      "17 \t5751.0 \t\t96674.0\n",
      "18 \t5964.0 \t\t102638.0\n",
      "19 \t6177.0 \t\t108815.0\n",
      "20 \t6390.0 \t\t115205.0\n",
      "21 \t6603.0 \t\t121808.0\n",
      "22 \t6816.0 \t\t128624.0\n",
      "23 \t7029.0 \t\t135653.0\n",
      "24 \t7242.0 \t\t142895.0\n",
      "25 \t7455.0 \t\t150350.0\n",
      "26 \t7668.0 \t\t158018.0\n",
      "27 \t7881.0 \t\t165899.0\n",
      "28 \t8094.0 \t\t173993.0\n",
      "29 \t8307.0 \t\t182300.0\n"
     ]
    }
   ],
   "source": [
    "cumulative = 0\n",
    "for i in range(30):\n",
    "    if i == 0:\n",
    "        cumulative += installation_cost\n",
    "        print \"Installation cost: \", installation_cost, \"\\tcumulative: \", cumulative\n",
    "        print \"\\nYear\\tCost\\t\\tCumulative\"\n",
    "    else:\n",
    "        temp_cost = operating_cost\n",
    "        if i > warranty:\n",
    "            temp_cost += temp_cost*0.05*(i-10)\n",
    "        cumulative += temp_cost\n",
    "        print i, \"\\t\", temp_cost, \"\\t\\t\", cumulative"
   ]
  },
  {
   "cell_type": "markdown",
   "metadata": {},
   "source": [
    "# One shared boiler"
   ]
  },
  {
   "cell_type": "markdown",
   "metadata": {},
   "source": [
    "Merk\tNaam\tOpmerking\tType\tBrandstof\tPrijs\tEnergielabel\tPmin (kW)\tPmax (kW)\tPgem (kW)\tBoilerinhoud (l)\n",
    "\n",
    "Viessmann\tVitodens 200-W Vitotronic 100\tEnkel verwarming\tCondensatie-wandtoestel op gas\tGas\t € 5,739.00 \tA\t10.9\t54.4\t32.65\t160"
   ]
  },
  {
   "cell_type": "code",
   "execution_count": 23,
   "metadata": {
    "collapsed": true
   },
   "outputs": [],
   "source": [
    "p_min = 10.9      #kWh\n",
    "p_max = 54.4       #kWh\n",
    "p_avg = 32.65       #kWh\n",
    "tank_size = 160       #liters\n",
    "cost = 5739       #euro\n",
    "gas_price = 0.05       #euro/kWh\n",
    "yearly = 23260       #kWh\n",
    "warranty = 10      #years"
   ]
  },
  {
   "cell_type": "code",
   "execution_count": null,
   "metadata": {
    "collapsed": true
   },
   "outputs": [],
   "source": [
    "installation_cost = (cost + 600)*5\n",
    "operating_cost = yearly*gas_price*5\n",
    "print installation_cost, \" \", operating_cost"
   ]
  }
 ],
 "metadata": {
  "kernelspec": {
   "display_name": "Python 2",
   "language": "python",
   "name": "python2"
  },
  "language_info": {
   "codemirror_mode": {
    "name": "ipython",
    "version": 2
   },
   "file_extension": ".py",
   "mimetype": "text/x-python",
   "name": "python",
   "nbconvert_exporter": "python",
   "pygments_lexer": "ipython2",
   "version": "2.7.12"
  }
 },
 "nbformat": 4,
 "nbformat_minor": 2
}
