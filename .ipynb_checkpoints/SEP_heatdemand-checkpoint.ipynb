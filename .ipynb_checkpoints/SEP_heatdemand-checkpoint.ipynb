{
 "metadata": {
  "name": "",
  "signature": "sha256:f68b67a04ab8efdd2eca297b14f506c95a98a02ea8688e003a8903a62b96c529"
 },
 "nbformat": 3,
 "nbformat_minor": 0,
 "worksheets": []
}