{
 "metadata": {
  "name": "",
  "signature": "sha256:2615b90cbfd7f6c9501aba88eb2f9e47f16e93b9b970caeb37f92f86210b9e4c"
 },
 "nbformat": 3,
 "nbformat_minor": 0,
 "worksheets": [
  {
   "cells": [
    {
     "cell_type": "code",
     "collapsed": false,
     "input": [
      "import tmpo\n",
      "import charts\n",
      "s = tmpo.Session()"
     ],
     "language": "python",
     "metadata": {},
     "outputs": [
      {
       "output_type": "stream",
       "stream": "stdout",
       "text": [
        "Server running in the folder /home/matteus/Github/randomProgramming/SEP at 127.0.0.1:59556\n"
       ]
      }
     ],
     "prompt_number": 9
    },
    {
     "cell_type": "code",
     "collapsed": false,
     "input": [
      "s.debug = True"
     ],
     "language": "python",
     "metadata": {},
     "outputs": [],
     "prompt_number": 10
    },
    {
     "cell_type": "code",
     "collapsed": false,
     "input": [
      "s.add(\"fed676021dacaaf6a12a8dda7685be34\", \"b371402dc767cc83e41bc294b63f9586\")"
     ],
     "language": "python",
     "metadata": {},
     "outputs": [],
     "prompt_number": 11
    },
    {
     "cell_type": "code",
     "collapsed": false,
     "input": [
      "s.sync()"
     ],
     "language": "python",
     "metadata": {},
     "outputs": [
      {
       "output_type": "stream",
       "stream": "stderr",
       "text": [
        "/usr/local/lib/python2.7/dist-packages/requests/packages/urllib3/connection.py:340: SubjectAltNameWarning: Certificate for api.flukso.net has no `subjectAltName`, falling back to check for a `commonName` for now. This feature is being removed by major browsers and deprecated by RFC 2818. (See https://github.com/shazow/urllib3/issues/497 for details.)\n",
        "  SubjectAltNameWarning\n"
       ]
      }
     ],
     "prompt_number": 12
    },
    {
     "cell_type": "code",
     "collapsed": false,
     "input": [
      "s.series(\"fed676021dacaaf6a12a8dda7685be34\")"
     ],
     "language": "python",
     "metadata": {},
     "outputs": [
      {
       "output_type": "stream",
       "stream": "stdout",
       "text": [
        "[w] time:1487667442.348 sid:fed676021dacaaf6a12a8dda7685be34 rid:0 lvl:20 bid:1410334720 size[B]:11637\n",
        "[w] time:1487667442.468 sid:fed676021dacaaf6a12a8dda7685be34 rid:0 lvl:20 bid:1411383296 size[B]:20322\n",
        "[w] time:1487667442.470 sid:fed676021dacaaf6a12a8dda7685be34 rid:0 lvl:20 bid:1412431872 size[B]:19325\n",
        "[w] time:1487667442.470 sid:fed676021dacaaf6a12a8dda7685be34 rid:0 lvl:20 bid:1413480448 size[B]:16501\n",
        "[w] time:1487667442.470 sid:fed676021dacaaf6a12a8dda7685be34 rid:0 lvl:20 bid:1414529024 size[B]:22290\n",
        "[w] time:1487667442.646 sid:fed676021dacaaf6a12a8dda7685be34 rid:0 lvl:20 bid:1415577600 size[B]:27343\n",
        "[w] time:1487667442.656 sid:fed676021dacaaf6a12a8dda7685be34 rid:0 lvl:20 bid:1416626176 size[B]:27146\n",
        "[w] time:1487667442.665 sid:fed676021dacaaf6a12a8dda7685be34 rid:0 lvl:20 bid:1417674752 size[B]:25429\n",
        "[w] time:1487667442.672 sid:fed676021dacaaf6a12a8dda7685be34 rid:0 lvl:20 bid:1418723328 size[B]:26939\n",
        "[w] time:1487667442.673 sid:fed676021dacaaf6a12a8dda7685be34 rid:0 lvl:20 bid:1419771904 size[B]:25179\n",
        "[w] time:1487667442.673 sid:fed676021dacaaf6a12a8dda7685be34 rid:0 lvl:20 bid:1420820480 size[B]:25594\n",
        "[w] time:1487667442.673 sid:fed676021dacaaf6a12a8dda7685be34 rid:0 lvl:20 bid:1421869056 size[B]:24841\n",
        "[w] time:1487667442.674 sid:fed676021dacaaf6a12a8dda7685be34 rid:0 lvl:20 bid:1422917632 size[B]:27631\n",
        "[w] time:1487667442.674 sid:fed676021dacaaf6a12a8dda7685be34 rid:0 lvl:20 bid:1423966208 size[B]:23148\n",
        "[w] time:1487667442.674 sid:fed676021dacaaf6a12a8dda7685be34 rid:0 lvl:20 bid:1425014784 size[B]:24467\n",
        "[w] time:1487667442.674 sid:fed676021dacaaf6a12a8dda7685be34 rid:0 lvl:20 bid:1426063360 size[B]:24310\n",
        "[w] time:1487667442.674 sid:fed676021dacaaf6a12a8dda7685be34 rid:0 lvl:20 bid:1427111936 size[B]:24165\n",
        "[w] time:1487667442.675 sid:fed676021dacaaf6a12a8dda7685be34 rid:0 lvl:20 bid:1428160512 size[B]:23450\n",
        "[w] time:1487667442.675 sid:fed676021dacaaf6a12a8dda7685be34 rid:0 lvl:20 bid:1429209088 size[B]:19973\n",
        "[w] time:1487667442.675 sid:fed676021dacaaf6a12a8dda7685be34 rid:0 lvl:20 bid:1430257664 size[B]:21523\n",
        "[w] time:1487667442.675 sid:fed676021dacaaf6a12a8dda7685be34 rid:0 lvl:20 bid:1431306240 size[B]:23049\n",
        "[w] time:1487667442.675 sid:fed676021dacaaf6a12a8dda7685be34 rid:0 lvl:20 bid:1432354816 size[B]:20202\n",
        "[w] time:1487667442.676 sid:fed676021dacaaf6a12a8dda7685be34 rid:0 lvl:20 bid:1433403392 size[B]:21337\n",
        "[w] time:1487667442.676 sid:fed676021dacaaf6a12a8dda7685be34 rid:0 lvl:20 bid:1434451968 size[B]:21803\n",
        "[w] time:1487667442.676 sid:fed676021dacaaf6a12a8dda7685be34 rid:0 lvl:20 bid:1435500544 size[B]:22079\n",
        "[w] time:1487667442.676 sid:fed676021dacaaf6a12a8dda7685be34 rid:0 lvl:20 bid:1436549120 size[B]:12314\n",
        "[w] time:1487667442.676 sid:fed676021dacaaf6a12a8dda7685be34 rid:0 lvl:20 bid:1437597696 size[B]:17243\n",
        "[w] time:1487667442.677 sid:fed676021dacaaf6a12a8dda7685be34 rid:0 lvl:20 bid:1438646272 size[B]:10491\n",
        "[w] time:1487667442.677 sid:fed676021dacaaf6a12a8dda7685be34 rid:0 lvl:20 bid:1439694848 size[B]:21264\n",
        "[w] time:1487667442.678 sid:fed676021dacaaf6a12a8dda7685be34 rid:0 lvl:20 bid:1440743424 size[B]:22158\n",
        "[w] time:1487667442.689 sid:fed676021dacaaf6a12a8dda7685be34 rid:0 lvl:20 bid:1441792000 size[B]:21978\n",
        "[w] time:1487667442.690 sid:fed676021dacaaf6a12a8dda7685be34 rid:0 lvl:20 bid:1442840576 size[B]:23069\n",
        "[w] time:1487667442.708 sid:fed676021dacaaf6a12a8dda7685be34 rid:0 lvl:20 bid:1443889152 size[B]:23527\n",
        "[w] time:1487667442.716 sid:fed676021dacaaf6a12a8dda7685be34 rid:0 lvl:20 bid:1444937728 size[B]:23196\n",
        "[w] time:1487667442.723 sid:fed676021dacaaf6a12a8dda7685be34 rid:0 lvl:20 bid:1445986304 size[B]:27842\n",
        "[w] time:1487667442.800 sid:fed676021dacaaf6a12a8dda7685be34 rid:0 lvl:20 bid:1447034880 size[B]:25279\n",
        "[w] time:1487667442.803 sid:fed676021dacaaf6a12a8dda7685be34 rid:0 lvl:20 bid:1448083456 size[B]:28826\n",
        "[w] time:1487667442.804 sid:fed676021dacaaf6a12a8dda7685be34 rid:0 lvl:20 bid:1449132032 size[B]:28561\n",
        "[w] time:1487667442.804 sid:fed676021dacaaf6a12a8dda7685be34 rid:0 lvl:20 bid:1450180608 size[B]:27058\n",
        "[w] time:1487667443.056 sid:fed676021dacaaf6a12a8dda7685be34 rid:0 lvl:20 bid:1451229184 size[B]:26094\n",
        "[w] time:1487667443.180 sid:fed676021dacaaf6a12a8dda7685be34 rid:0 lvl:20 bid:1452277760 size[B]:35165\n",
        "[w] time:1487667443.180 sid:fed676021dacaaf6a12a8dda7685be34 rid:0 lvl:20 bid:1453326336 size[B]:27157\n",
        "[w] time:1487667443.220 sid:fed676021dacaaf6a12a8dda7685be34 rid:0 lvl:20 bid:1454374912 size[B]:30945\n",
        "[w] time:1487667443.220 sid:fed676021dacaaf6a12a8dda7685be34 rid:0 lvl:20 bid:1455423488 size[B]:26635\n",
        "[w] time:1487667443.220 sid:fed676021dacaaf6a12a8dda7685be34 rid:0 lvl:20 bid:1456472064 size[B]:24597\n",
        "[w] time:1487667443.221 sid:fed676021dacaaf6a12a8dda7685be34 rid:0 lvl:20 bid:1457520640 size[B]:26277\n",
        "[w] time:1487667443.221 sid:fed676021dacaaf6a12a8dda7685be34 rid:0 lvl:20 bid:1458569216 size[B]:25168\n",
        "[w] time:1487667443.221 sid:fed676021dacaaf6a12a8dda7685be34 rid:0 lvl:20 bid:1459617792 size[B]:23874\n",
        "[w] time:1487667443.221 sid:fed676021dacaaf6a12a8dda7685be34 rid:0 lvl:20 bid:1460666368 size[B]:20816\n",
        "[w] time:1487667443.221 sid:fed676021dacaaf6a12a8dda7685be34 rid:0 lvl:20 bid:1461714944 size[B]:21592\n",
        "[w] time:1487667443.222 sid:fed676021dacaaf6a12a8dda7685be34 rid:0 lvl:20 bid:1462763520 size[B]:20881\n",
        "[w] time:1487667443.222 sid:fed676021dacaaf6a12a8dda7685be34 rid:0 lvl:20 bid:1463812096 size[B]:23274\n",
        "[w] time:1487667443.222 sid:fed676021dacaaf6a12a8dda7685be34 rid:0 lvl:20 bid:1464860672 size[B]:23371\n",
        "[w] time:1487667443.222 sid:fed676021dacaaf6a12a8dda7685be34 rid:0 lvl:20 bid:1465909248 size[B]:28884\n",
        "[w] time:1487667443.222 sid:fed676021dacaaf6a12a8dda7685be34 rid:0 lvl:20 bid:1466957824 size[B]:14806\n"
       ]
      },
      {
       "metadata": {},
       "output_type": "pyout",
       "prompt_number": 13,
       "text": [
        "2014-09-16 13:07:59+00:00    3034794\n",
        "2014-09-16 13:08:29+00:00    3034795\n",
        "2014-09-16 13:08:59+00:00    3034796\n",
        "2014-09-16 13:09:30+00:00    3034797\n",
        "2014-09-16 13:10:00+00:00    3034798\n",
        "2014-09-16 13:10:30+00:00    3034799\n",
        "2014-09-16 13:11:01+00:00    3034800\n",
        "2014-09-16 13:11:31+00:00    3034801\n",
        "2014-09-16 13:12:02+00:00    3034802\n",
        "2014-09-16 13:12:32+00:00    3034803\n",
        "2014-09-16 13:13:03+00:00    3034804\n",
        "2014-09-16 13:13:33+00:00    3034805\n",
        "2014-09-16 13:14:04+00:00    3034806\n",
        "2014-09-16 13:14:34+00:00    3034807\n",
        "2014-09-16 13:15:05+00:00    3034808\n",
        "2014-09-16 13:15:36+00:00    3034809\n",
        "2014-09-16 13:16:07+00:00    3034810\n",
        "2014-09-16 13:16:38+00:00    3034811\n",
        "2014-09-16 13:17:09+00:00    3034812\n",
        "2014-09-16 13:17:21+00:00    3034813\n",
        "2014-09-16 13:17:40+00:00    3034814\n",
        "2014-09-16 13:17:59+00:00    3034815\n",
        "2014-09-16 13:18:19+00:00    3034816\n",
        "2014-09-16 13:18:38+00:00    3034817\n",
        "2014-09-16 13:18:58+00:00    3034818\n",
        "2014-09-16 13:19:17+00:00    3034819\n",
        "2014-09-16 13:19:37+00:00    3034820\n",
        "2014-09-16 13:19:57+00:00    3034821\n",
        "2014-09-16 13:20:16+00:00    3034822\n",
        "2014-09-16 13:20:36+00:00    3034823\n",
        "                              ...   \n",
        "2016-07-04 18:20:58+00:00    4306248\n",
        "2016-07-04 18:21:19+00:00    4306249\n",
        "2016-07-04 18:21:38+00:00    4306250\n",
        "2016-07-04 18:21:57+00:00    4306251\n",
        "2016-07-04 18:22:16+00:00    4306252\n",
        "2016-07-04 18:22:34+00:00    4306253\n",
        "2016-07-04 18:22:53+00:00    4306254\n",
        "2016-07-04 18:23:12+00:00    4306255\n",
        "2016-07-04 18:23:31+00:00    4306256\n",
        "2016-07-04 18:23:50+00:00    4306257\n",
        "2016-07-04 18:24:09+00:00    4306258\n",
        "2016-07-04 18:24:28+00:00    4306259\n",
        "2016-07-04 18:24:47+00:00    4306260\n",
        "2016-07-04 18:25:06+00:00    4306261\n",
        "2016-07-04 18:25:23+00:00    4306262\n",
        "2016-07-04 18:25:41+00:00    4306263\n",
        "2016-07-04 18:25:59+00:00    4306264\n",
        "2016-07-04 18:26:15+00:00    4306265\n",
        "2016-07-04 18:26:30+00:00    4306266\n",
        "2016-07-04 18:26:45+00:00    4306267\n",
        "2016-07-04 18:27:00+00:00    4306268\n",
        "2016-07-04 18:27:18+00:00    4306269\n",
        "2016-07-04 18:27:36+00:00    4306270\n",
        "2016-07-04 18:27:53+00:00    4306271\n",
        "2016-07-04 18:28:11+00:00    4306272\n",
        "2016-07-04 18:28:27+00:00    4306273\n",
        "2016-07-04 18:28:40+00:00    4306274\n",
        "2016-07-04 18:28:53+00:00    4306275\n",
        "2016-07-04 18:29:05+00:00    4306276\n",
        "2016-07-04 18:29:18+00:00    4306277\n",
        "Name: fed676021dacaaf6a12a8dda7685be34, dtype: float64"
       ]
      }
     ],
     "prompt_number": 13
    },
    {
     "cell_type": "code",
     "collapsed": false,
     "input": [
      "charts.plot(s, stock=True, show='inline')"
     ],
     "language": "python",
     "metadata": {},
     "outputs": [
      {
       "ename": "AttributeError",
       "evalue": "Session instance has no attribute '__getitem__'",
       "output_type": "pyerr",
       "traceback": [
        "\u001b[0;31m---------------------------------------------------------------------------\u001b[0m\n\u001b[0;31mAttributeError\u001b[0m                            Traceback (most recent call last)",
        "\u001b[0;32m<ipython-input-15-12cf707db77c>\u001b[0m in \u001b[0;36m<module>\u001b[0;34m()\u001b[0m\n\u001b[0;32m----> 1\u001b[0;31m \u001b[0mcharts\u001b[0m\u001b[0;34m.\u001b[0m\u001b[0mplot\u001b[0m\u001b[0;34m(\u001b[0m\u001b[0ms\u001b[0m\u001b[0;34m,\u001b[0m \u001b[0mstock\u001b[0m\u001b[0;34m=\u001b[0m\u001b[0mTrue\u001b[0m\u001b[0;34m,\u001b[0m \u001b[0mshow\u001b[0m\u001b[0;34m=\u001b[0m\u001b[0;34m'inline'\u001b[0m\u001b[0;34m)\u001b[0m\u001b[0;34m\u001b[0m\u001b[0m\n\u001b[0m",
        "\u001b[0;32m/usr/local/lib/python2.7/dist-packages/charts/plot.pyc\u001b[0m in \u001b[0;36mplot\u001b[0;34m(series, options, **kwargs)\u001b[0m\n\u001b[1;32m    101\u001b[0m \u001b[0;34m\u001b[0m\u001b[0m\n\u001b[1;32m    102\u001b[0m     \u001b[0;31m# Convert to a legitimate series object\u001b[0m\u001b[0;34m\u001b[0m\u001b[0;34m\u001b[0m\u001b[0m\n\u001b[0;32m--> 103\u001b[0;31m     \u001b[0mseries\u001b[0m \u001b[0;34m=\u001b[0m \u001b[0mto_series\u001b[0m\u001b[0;34m(\u001b[0m\u001b[0mseries\u001b[0m\u001b[0;34m,\u001b[0m \u001b[0mname\u001b[0m\u001b[0;34m)\u001b[0m\u001b[0;34m\u001b[0m\u001b[0m\n\u001b[0m\u001b[1;32m    104\u001b[0m \u001b[0;34m\u001b[0m\u001b[0m\n\u001b[1;32m    105\u001b[0m     \u001b[0;31m# Set the display option\u001b[0m\u001b[0;34m\u001b[0m\u001b[0;34m\u001b[0m\u001b[0m\n",
        "\u001b[0;32m/usr/local/lib/python2.7/dist-packages/charts/core.pyc\u001b[0m in \u001b[0;36mto_series\u001b[0;34m(series, name)\u001b[0m\n\u001b[1;32m    144\u001b[0m     \u001b[0;31m# List of dictionaries?:\u001b[0m\u001b[0;34m\u001b[0m\u001b[0;34m\u001b[0m\u001b[0m\n\u001b[1;32m    145\u001b[0m     \u001b[0;32mtry\u001b[0m\u001b[0;34m:\u001b[0m\u001b[0;34m\u001b[0m\u001b[0m\n\u001b[0;32m--> 146\u001b[0;31m         \u001b[0;32mif\u001b[0m \u001b[0misinstance\u001b[0m\u001b[0;34m(\u001b[0m\u001b[0mseries\u001b[0m\u001b[0;34m[\u001b[0m\u001b[0;36m0\u001b[0m\u001b[0;34m]\u001b[0m\u001b[0;34m,\u001b[0m \u001b[0mdict\u001b[0m\u001b[0;34m)\u001b[0m\u001b[0;34m:\u001b[0m\u001b[0;34m\u001b[0m\u001b[0m\n\u001b[0m\u001b[1;32m    147\u001b[0m             \u001b[0;32mreturn\u001b[0m \u001b[0mseries\u001b[0m\u001b[0;34m\u001b[0m\u001b[0m\n\u001b[1;32m    148\u001b[0m     \u001b[0;32mexcept\u001b[0m \u001b[0mKeyError\u001b[0m\u001b[0;34m:\u001b[0m\u001b[0;34m\u001b[0m\u001b[0m\n",
        "\u001b[0;31mAttributeError\u001b[0m: Session instance has no attribute '__getitem__'"
       ]
      }
     ],
     "prompt_number": 15
    },
    {
     "cell_type": "code",
     "collapsed": false,
     "input": [],
     "language": "python",
     "metadata": {},
     "outputs": []
    }
   ],
   "metadata": {}
  }
 ]
}